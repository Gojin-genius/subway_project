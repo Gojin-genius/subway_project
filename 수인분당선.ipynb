{
 "cells": [
  {
   "cell_type": "code",
   "execution_count": 4,
   "metadata": {},
   "outputs": [],
   "source": [
    "import openpyxl as op\n",
    "import datetime as dt"
   ]
  },
  {
   "cell_type": "code",
   "execution_count": 1,
   "metadata": {},
   "outputs": [],
   "source": [
    "def suin_bundang_line_station(direction):\n",
    "    \n",
    "    if direction == '인천행'or '인천':\n",
    "        wb = op.load_workbook('수인분당선_역간거리.xlsx')\n",
    "        ws = wb['인천행']\n",
    "        cells = ws['A2':'A64']\n",
    "        \n",
    "        for row in cells:\n",
    "            for cell in row:\n",
    "                print(cell.value)\n",
    "                print('↓')\n",
    "    \n",
    "    if direction == '왕십리행' or '왕십리':\n",
    "        wb = op.load_workbook('수인분당선_역간거리.xlsx')\n",
    "        ws = wb['왕십리행']\n",
    "        cells = ws['A2':'A64']\n",
    "        \n",
    "        for row in cells:\n",
    "            for cell in row:\n",
    "                print(cell.value)\n",
    "                print('↓')"
   ]
  },
  {
   "cell_type": "code",
   "execution_count": 50,
   "metadata": {},
   "outputs": [],
   "source": [
    "def subway_use_cost(start,end):\n",
    "    \n",
    "    strat_num = 0\n",
    "    end_num = 0\n",
    "    check = 0\n",
    "    basic_cost = 1250\n",
    "    plus_cost = 0\n",
    "    final_cost =0\n",
    "    \n",
    "    wb = op.load_workbook('수인분당선_역간거리.xlsx')\n",
    "    ws = wb['인천행']\n",
    "    cells = ws['A2':'A64']\n",
    "    \n",
    "    for row in cells:\n",
    "        for cell in row:\n",
    "            if cell.value == start:\n",
    "                start_num = cell.row\n",
    "            elif cell.value == end:\n",
    "                end_num = cell.row\n",
    "\n",
    "    if start_num > end_num:\n",
    "        wb = op.load_workbook('수인분당선_역간거리.xlsx')\n",
    "        ws = wb['왕십리행']\n",
    "        cells = ws['A2':'A64']\n",
    "    \n",
    "        for row in cells:\n",
    "            for cell in row:\n",
    "                if cell.value == start:\n",
    "                    start_num = cell.row\n",
    "                elif cell.value == end:\n",
    "                    end_num = cell.row\n",
    "                    \n",
    "    cells = ws['B2':'B64']\n",
    "    \n",
    "    for row in cells:\n",
    "        for cell in row:\n",
    "            if start_num<= cell.row < end_num:\n",
    "                check += cell.value\n",
    "    \n",
    "    if check <= 10:\n",
    "        print(\"지급해야 하실 지하철 이용 요금은\",basic_cost,\"원 입니다.\")\n",
    "    elif check <= 50:\n",
    "        if (check-10)%5 == 0:\n",
    "            plus_cost = (check-10)//5*100\n",
    "            final_cost = basic_cost + plus_cost\n",
    "        else:\n",
    "            plus_cost = ((check-10)//5+1)*100\n",
    "            final_cost = int(basic_cost + plus_cost)\n",
    "        print(\"지급해야 하실 지하철 이용 요금은\",final_cost,\"원 입니다.\")\n",
    "    else:\n",
    "        if (check-50)%8 == 0:\n",
    "            plus_cost = (check-50)//8*100+800\n",
    "            final_cost = basic_cost + plus_cost\n",
    "        else:\n",
    "            plus_cost = ((check-50)//8+1)*100+800\n",
    "            final_cost = int(basic_cost + plus_cost)\n",
    "        print(\"지급해야 하실 지하철 이용 요금은\",final_cost,\"원 입니다.\")"
   ]
  },
  {
   "cell_type": "code",
   "execution_count": null,
   "metadata": {},
   "outputs": [],
   "source": []
  }
 ],
 "metadata": {
  "kernelspec": {
   "display_name": "Python 3",
   "language": "python",
   "name": "python3"
  },
  "language_info": {
   "codemirror_mode": {
    "name": "ipython",
    "version": 3
   },
   "file_extension": ".py",
   "mimetype": "text/x-python",
   "name": "python",
   "nbconvert_exporter": "python",
   "pygments_lexer": "ipython3",
   "version": "3.8.5"
  }
 },
 "nbformat": 4,
 "nbformat_minor": 4
}
